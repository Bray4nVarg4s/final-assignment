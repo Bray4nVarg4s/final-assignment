{
 "cells": [
  {
   "cell_type": "markdown",
   "id": "a8e14658-2da1-4936-a855-a0595289a263",
   "metadata": {},
   "source": [
    "# Final Assigment"
   ]
  },
  {
   "cell_type": "markdown",
   "id": "0c7c659d-41c1-4f97-b873-c6612d52920c",
   "metadata": {},
   "source": [
    "__1.__ Create a Jupyter Notebook"
   ]
  },
  {
   "cell_type": "markdown",
   "id": "4b971194-2a9b-4c85-a795-a057bf46ff47",
   "metadata": {},
   "source": [
    "__2.__ Create markdown cell with title of the notebook"
   ]
  },
  {
   "cell_type": "markdown",
   "id": "b309334e-9edd-48f8-969f-03a583636300",
   "metadata": {
    "tags": []
   },
   "source": [
    "# Sata Science Tools and Ecosystem"
   ]
  },
  {
   "cell_type": "markdown",
   "id": "64f0ff5e-6c49-409a-8810-d373f7f92143",
   "metadata": {
    "tags": []
   },
   "source": [
    "__3.__ Create a markdown cell for an introduction"
   ]
  },
  {
   "cell_type": "markdown",
   "id": "80f538ad-181b-4878-89a5-819a13b10eaf",
   "metadata": {
    "tags": []
   },
   "source": [
    "This notebook provides a summary of Data Science Tools and the associated ecosystem."
   ]
  },
  {
   "cell_type": "markdown",
   "id": "70f28230-194c-4aa1-8af9-6b98403d2cc7",
   "metadata": {},
   "source": [
    "__10.__ Insert a markdown cell to list Objetives"
   ]
  },
  {
   "cell_type": "markdown",
   "id": "ff79077b-cacc-4213-8d83-431f7f07b9a6",
   "metadata": {},
   "source": [
    "__Objetives:__\n",
    "+ Name some data science languages\n",
    "+ Name some data science libraries \n",
    "+ List some tools necessary for data analysis\n",
    "+ Evaluate arithmetic operations\n",
    "+ Example of how to convert minutes to hours using a Python expression\n"
   ]
  },
  {
   "cell_type": "markdown",
   "id": "7b74e929-59bc-4370-a857-6093405bcbe2",
   "metadata": {
    "tags": []
   },
   "source": [
    "__4.__ Create a markdown cell to list data science languages"
   ]
  },
  {
   "cell_type": "markdown",
   "id": "f3d8442e-4f8a-41c1-87fe-a9fdea9700df",
   "metadata": {
    "tags": []
   },
   "source": [
    "Data scientists often use several languages such as:\n",
    "\n",
    "1. Python\n",
    "2. JavaScript\n",
    "3. SQL"
   ]
  },
  {
   "cell_type": "markdown",
   "id": "c9e3dcbf-21a9-4838-822d-f26698d0c7e1",
   "metadata": {},
   "source": [
    "__5.__ Create a markdown cell to list data science libraries"
   ]
  },
  {
   "cell_type": "markdown",
   "id": "02aec516-7bc6-4e3d-a8be-987ce9b62008",
   "metadata": {},
   "source": [
    "Some of the libraries frequently used by data scientists are:\n",
    "\n",
    "    1. Pandas for data structure tools\n",
    "    2. Numpy for Arrays and matrices\n",
    "    3. Matplotlib for visualization tools \n",
    "    4. Scikitlearn for Machine Learning\n",
    "    "
   ]
  },
  {
   "cell_type": "markdown",
   "id": "65235901-cab2-4825-bbc0-138a3771209d",
   "metadata": {},
   "source": [
    "__6.__ Create a markdown cell with a table of Data Science tools"
   ]
  },
  {
   "cell_type": "markdown",
   "id": "2127f881-0fdb-4286-a3e2-9027b11a3dad",
   "metadata": {},
   "source": [
    "|___Data Science Tools___|\n",
    "|-|\n",
    "|RStudio|\n",
    "|Jupyter Notebooks|\n",
    "|IBM Watson Studio|"
   ]
  },
  {
   "cell_type": "markdown",
   "id": "eb45d5c1-48b0-420f-abd1-15d59fc0ece9",
   "metadata": {},
   "source": [
    "__7.__ Create a markdown cell introducing arithmetic expression examples"
   ]
  },
  {
   "cell_type": "markdown",
   "id": "74848c49-a1dd-4b4c-be2c-b6011866748d",
   "metadata": {},
   "source": [
    "### These are some examples of arithmetic expressions that we can evaluate in Python:"
   ]
  },
  {
   "cell_type": "markdown",
   "id": "b3f2f2ce-c410-45da-b932-991573cb2d52",
   "metadata": {},
   "source": [
    "__8.__ Create a code cell to multiply and add numbers"
   ]
  },
  {
   "cell_type": "code",
   "execution_count": 5,
   "id": "b21aff0b-c4b0-42de-9b56-4100a231ecef",
   "metadata": {
    "tags": []
   },
   "outputs": [
    {
     "data": {
      "text/plain": [
       "17"
      ]
     },
     "execution_count": 5,
     "metadata": {},
     "output_type": "execute_result"
    }
   ],
   "source": [
    "# This a simple arithmetic expression to mutiply then add integres\n",
    "(3*4)+5"
   ]
  },
  {
   "cell_type": "markdown",
   "id": "11be1d08-5d54-4102-bfba-feb38b3d05da",
   "metadata": {},
   "source": [
    "__9.__ Create a code cell to convert minutes to hours"
   ]
  },
  {
   "cell_type": "code",
   "execution_count": 4,
   "id": "b68caca3-fe00-4e76-933a-122bd8251a8c",
   "metadata": {
    "tags": []
   },
   "outputs": [
    {
     "name": "stdout",
     "output_type": "stream",
     "text": [
      "3.3333333333333335\n"
     ]
    }
   ],
   "source": [
    "# This will convert 200 minutes to hours by dividing by 60\n",
    "minutes=200\n",
    "hours=minutes/60\n",
    "print(hours)"
   ]
  },
  {
   "cell_type": "markdown",
   "id": "24eeef83-6c72-41bc-8e7b-cae69de9d470",
   "metadata": {},
   "source": [
    "__11.__ Create a markdown cell to indicate the Author's name"
   ]
  },
  {
   "cell_type": "markdown",
   "id": "bbd50c29-9005-4adc-9fc9-dd70569dc046",
   "metadata": {
    "tags": []
   },
   "source": [
    "## Author\n",
    "Brayan Steven Vargas Barrera"
   ]
  }
 ],
 "metadata": {
  "kernelspec": {
   "display_name": "Python 3 (ipykernel)",
   "language": "python",
   "name": "python3"
  },
  "language_info": {
   "codemirror_mode": {
    "name": "ipython",
    "version": 3
   },
   "file_extension": ".py",
   "mimetype": "text/x-python",
   "name": "python",
   "nbconvert_exporter": "python",
   "pygments_lexer": "ipython3",
   "version": "3.11.5"
  },
  "toc-showcode": true
 },
 "nbformat": 4,
 "nbformat_minor": 5
}
